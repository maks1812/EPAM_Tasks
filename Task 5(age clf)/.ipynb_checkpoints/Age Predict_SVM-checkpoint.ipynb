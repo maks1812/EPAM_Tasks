{
 "cells": [
  {
   "cell_type": "markdown",
   "metadata": {},
   "source": [
    "# SVM / SVR for Age Classification"
   ]
  },
  {
   "cell_type": "markdown",
   "metadata": {},
   "source": [
    "In this task we compare different SVM / SVR model for age classification task"
   ]
  },
  {
   "cell_type": "code",
   "execution_count": 1,
   "metadata": {},
   "outputs": [],
   "source": [
    "import re\n",
    "import matplotlib.pyplot as plt\n",
    "import seaborn as sns\n",
    "import numpy as np\n",
    "import os\n",
    "import pandas as pd "
   ]
  },
  {
   "cell_type": "code",
   "execution_count": 2,
   "metadata": {},
   "outputs": [],
   "source": [
    "df = pd.read_csv('blogtext.csv')"
   ]
  },
  {
   "cell_type": "code",
   "execution_count": 3,
   "metadata": {},
   "outputs": [
    {
     "data": {
      "text/html": [
       "<div>\n",
       "<style scoped>\n",
       "    .dataframe tbody tr th:only-of-type {\n",
       "        vertical-align: middle;\n",
       "    }\n",
       "\n",
       "    .dataframe tbody tr th {\n",
       "        vertical-align: top;\n",
       "    }\n",
       "\n",
       "    .dataframe thead th {\n",
       "        text-align: right;\n",
       "    }\n",
       "</style>\n",
       "<table border=\"1\" class=\"dataframe\">\n",
       "  <thead>\n",
       "    <tr style=\"text-align: right;\">\n",
       "      <th></th>\n",
       "      <th>id</th>\n",
       "      <th>gender</th>\n",
       "      <th>age</th>\n",
       "      <th>topic</th>\n",
       "      <th>sign</th>\n",
       "      <th>date</th>\n",
       "      <th>text</th>\n",
       "    </tr>\n",
       "  </thead>\n",
       "  <tbody>\n",
       "    <tr>\n",
       "      <th>0</th>\n",
       "      <td>2059027</td>\n",
       "      <td>male</td>\n",
       "      <td>15</td>\n",
       "      <td>Student</td>\n",
       "      <td>Leo</td>\n",
       "      <td>14,May,2004</td>\n",
       "      <td>Info has been found (+/- 100 pages,...</td>\n",
       "    </tr>\n",
       "    <tr>\n",
       "      <th>1</th>\n",
       "      <td>2059027</td>\n",
       "      <td>male</td>\n",
       "      <td>15</td>\n",
       "      <td>Student</td>\n",
       "      <td>Leo</td>\n",
       "      <td>13,May,2004</td>\n",
       "      <td>These are the team members:   Drewe...</td>\n",
       "    </tr>\n",
       "    <tr>\n",
       "      <th>2</th>\n",
       "      <td>2059027</td>\n",
       "      <td>male</td>\n",
       "      <td>15</td>\n",
       "      <td>Student</td>\n",
       "      <td>Leo</td>\n",
       "      <td>12,May,2004</td>\n",
       "      <td>In het kader van kernfusie op aarde...</td>\n",
       "    </tr>\n",
       "    <tr>\n",
       "      <th>3</th>\n",
       "      <td>2059027</td>\n",
       "      <td>male</td>\n",
       "      <td>15</td>\n",
       "      <td>Student</td>\n",
       "      <td>Leo</td>\n",
       "      <td>12,May,2004</td>\n",
       "      <td>testing!!!  testing!!!</td>\n",
       "    </tr>\n",
       "    <tr>\n",
       "      <th>4</th>\n",
       "      <td>3581210</td>\n",
       "      <td>male</td>\n",
       "      <td>33</td>\n",
       "      <td>InvestmentBanking</td>\n",
       "      <td>Aquarius</td>\n",
       "      <td>11,June,2004</td>\n",
       "      <td>Thanks to Yahoo!'s Toolbar I can ...</td>\n",
       "    </tr>\n",
       "  </tbody>\n",
       "</table>\n",
       "</div>"
      ],
      "text/plain": [
       "        id gender  age              topic      sign          date  \\\n",
       "0  2059027   male   15            Student       Leo   14,May,2004   \n",
       "1  2059027   male   15            Student       Leo   13,May,2004   \n",
       "2  2059027   male   15            Student       Leo   12,May,2004   \n",
       "3  2059027   male   15            Student       Leo   12,May,2004   \n",
       "4  3581210   male   33  InvestmentBanking  Aquarius  11,June,2004   \n",
       "\n",
       "                                                text  \n",
       "0             Info has been found (+/- 100 pages,...  \n",
       "1             These are the team members:   Drewe...  \n",
       "2             In het kader van kernfusie op aarde...  \n",
       "3                   testing!!!  testing!!!            \n",
       "4               Thanks to Yahoo!'s Toolbar I can ...  "
      ]
     },
     "execution_count": 3,
     "metadata": {},
     "output_type": "execute_result"
    }
   ],
   "source": [
    "df.head()"
   ]
  },
  {
   "cell_type": "code",
   "execution_count": 4,
   "metadata": {},
   "outputs": [
    {
     "name": "stdout",
     "output_type": "stream",
     "text": [
      "<class 'pandas.core.frame.DataFrame'>\n",
      "RangeIndex: 681284 entries, 0 to 681283\n",
      "Data columns (total 7 columns):\n",
      " #   Column  Non-Null Count   Dtype \n",
      "---  ------  --------------   ----- \n",
      " 0   id      681284 non-null  int64 \n",
      " 1   gender  681284 non-null  object\n",
      " 2   age     681284 non-null  int64 \n",
      " 3   topic   681284 non-null  object\n",
      " 4   sign    681284 non-null  object\n",
      " 5   date    681284 non-null  object\n",
      " 6   text    681284 non-null  object\n",
      "dtypes: int64(2), object(5)\n",
      "memory usage: 36.4+ MB\n"
     ]
    }
   ],
   "source": [
    "df.info()"
   ]
  },
  {
   "cell_type": "markdown",
   "metadata": {},
   "source": [
    "delete unnecessary columns"
   ]
  },
  {
   "cell_type": "code",
   "execution_count": 5,
   "metadata": {},
   "outputs": [],
   "source": [
    "df.drop(['id','date', 'sign', 'topic'], axis=1, inplace=True)"
   ]
  },
  {
   "cell_type": "markdown",
   "metadata": {},
   "source": [
    "**Some stats about gender:**"
   ]
  },
  {
   "cell_type": "code",
   "execution_count": 6,
   "metadata": {},
   "outputs": [
    {
     "data": {
      "text/plain": [
       "count     681284\n",
       "unique         2\n",
       "top         male\n",
       "freq      345193\n",
       "Name: gender, dtype: object"
      ]
     },
     "execution_count": 6,
     "metadata": {},
     "output_type": "execute_result"
    }
   ],
   "source": [
    "df['gender'].describe()"
   ]
  },
  {
   "cell_type": "code",
   "execution_count": 7,
   "metadata": {},
   "outputs": [
    {
     "data": {
      "text/plain": [
       "<matplotlib.axes._subplots.AxesSubplot at 0x7fde63a85710>"
      ]
     },
     "execution_count": 7,
     "metadata": {},
     "output_type": "execute_result"
    },
    {
     "data": {
      "image/png": "[encoded data removed]",
      "text/plain": [
       "<Figure size 432x288 with 1 Axes>"
      ]
     },
     "metadata": {
      "needs_background": "light"
     },
     "output_type": "display_data"
    }
   ],
   "source": [
    "sns.countplot(x=\"gender\", data=df)"
   ]
  },
  {
   "cell_type": "markdown",
   "metadata": {},
   "source": [
    "**Age:**"
   ]
  },
  {
   "cell_type": "code",
   "execution_count": 8,
   "metadata": {},
   "outputs": [
    {
     "data": {
      "text/plain": [
       "count    681284.000000\n",
       "mean         23.932326\n",
       "std           7.786009\n",
       "min          13.000000\n",
       "25%          17.000000\n",
       "50%          24.000000\n",
       "75%          26.000000\n",
       "max          48.000000\n",
       "Name: age, dtype: float64"
      ]
     },
     "execution_count": 8,
     "metadata": {},
     "output_type": "execute_result"
    }
   ],
   "source": [
    "df['age'].describe()"
   ]
  },
  {
   "cell_type": "code",
   "execution_count": 9,
   "metadata": {},
   "outputs": [
    {
     "data": {
      "text/plain": [
       "<matplotlib.axes._subplots.AxesSubplot at 0x7fde0b8be7b8>"
      ]
     },
     "execution_count": 9,
     "metadata": {},
     "output_type": "execute_result"
    },
    {
     "data": {
      "image/png": "[encoded data removed]",
      "text/plain": [
       "<Figure size 1008x432 with 1 Axes>"
      ]
     },
     "metadata": {
      "needs_background": "light"
     },
     "output_type": "display_data"
    }
   ],
   "source": [
    "plt.figure(figsize = (14,6))\n",
    "sns.countplot(x=\"age\", data=df)"
   ]
  },
  {
   "cell_type": "code",
   "execution_count": 10,
   "metadata": {},
   "outputs": [
    {
     "data": {
      "text/plain": [
       "<matplotlib.axes._subplots.AxesSubplot at 0x7fde0b8dcfd0>"
      ]
     },
     "execution_count": 10,
     "metadata": {},
     "output_type": "execute_result"
    },
    {
     "data": {
      "image/png": "[encoded data removed]",
      "text/plain": [
       "<Figure size 1008x432 with 1 Axes>"
      ]
     },
     "metadata": {
      "needs_background": "light"
     },
     "output_type": "display_data"
    }
   ],
   "source": [
    "plt.figure(figsize = (14,6))\n",
    "sns.countplot(x=\"age\", hue=\"gender\", data=df, )"
   ]
  },
  {
   "cell_type": "markdown",
   "metadata": {},
   "source": [
    "**let's see how long text of blog posts are**"
   ]
  },
  {
   "cell_type": "code",
   "execution_count": 11,
   "metadata": {},
   "outputs": [],
   "source": [
    "df['number of words'] = df['text'].apply( lambda text: len(text.split()))"
   ]
  },
  {
   "cell_type": "code",
   "execution_count": 12,
   "metadata": {},
   "outputs": [
    {
     "data": {
      "text/plain": [
       "count    681284.000000\n",
       "mean        200.786742\n",
       "std         415.160622\n",
       "min           0.000000\n",
       "25%          37.000000\n",
       "50%         112.000000\n",
       "75%         255.000000\n",
       "max      131169.000000\n",
       "Name: number of words, dtype: float64"
      ]
     },
     "execution_count": 12,
     "metadata": {},
     "output_type": "execute_result"
    }
   ],
   "source": [
    "df['number of words'].describe()"
   ]
  },
  {
   "cell_type": "code",
   "execution_count": 13,
   "metadata": {},
   "outputs": [
    {
     "name": "stdout",
     "output_type": "stream",
     "text": [
      "number of empty texts: 3119\n"
     ]
    }
   ],
   "source": [
    "empty_text = len(df[df['number of words'] == 0])\n",
    "print(f'number of empty texts: { empty_text }')"
   ]
  },
  {
   "cell_type": "code",
   "execution_count": 14,
   "metadata": {},
   "outputs": [
    {
     "data": {
      "text/plain": [
       "<matplotlib.axes._subplots.AxesSubplot at 0x7fde15fe6780>"
      ]
     },
     "execution_count": 14,
     "metadata": {},
     "output_type": "execute_result"
    },
    {
     "data": {
      "image/png": "[encoded data removed]",
      "text/plain": [
       "<Figure size 1008x432 with 1 Axes>"
      ]
     },
     "metadata": {
      "needs_background": "light"
     },
     "output_type": "display_data"
    }
   ],
   "source": [
    "#df['trimmed number of words'] = df['number of words'].apply(lambda x: min(x, 1000))\n",
    "\n",
    "plt.figure(figsize = (14,6))\n",
    "sns.countplot(x=\"number of words\", data=df, orient = 'h')"
   ]
  },
  {
   "cell_type": "code",
   "execution_count": 15,
   "metadata": {},
   "outputs": [],
   "source": [
    "df['gender'] = df['gender'].apply(lambda gender: gender == 'male')"
   ]
  },
  {
   "cell_type": "code",
   "execution_count": 16,
   "metadata": {},
   "outputs": [],
   "source": [
    "data, target = df.drop(['age'], axis=1), df['age']"
   ]
  },
  {
   "cell_type": "code",
   "execution_count": 17,
   "metadata": {},
   "outputs": [],
   "source": [
    "data_part = data[::10]\n",
    "target_part = target[::10]"
   ]
  },
  {
   "cell_type": "markdown",
   "metadata": {},
   "source": [
    "Split data on train and test"
   ]
  },
  {
   "cell_type": "code",
   "execution_count": 18,
   "metadata": {},
   "outputs": [],
   "source": [
    "from sklearn.model_selection import train_test_split\n",
    "data_train, data_test, y_train, y_test = train_test_split(data_part, target_part, test_size=0.2, random_state=42)"
   ]
  },
  {
   "cell_type": "markdown",
   "metadata": {},
   "source": [
    "Add gender information to text. "
   ]
  },
  {
   "cell_type": "code",
   "execution_count": 19,
   "metadata": {},
   "outputs": [],
   "source": [
    "def add_binary_type(texts, mask, false_elem, true_elem):\n",
    "    return [text + true_elem if conditional else text + false_elem for text, conditional, in zip(texts, mask)]"
   ]
  },
  {
   "cell_type": "code",
   "execution_count": 20,
   "metadata": {},
   "outputs": [],
   "source": [
    "texts_train = add_binary_type(data_train['text'], data_train['gender'], 'man_token', 'woman_token')"
   ]
  },
  {
   "cell_type": "code",
   "execution_count": 21,
   "metadata": {},
   "outputs": [],
   "source": [
    "texts_test = add_binary_type(data_test['text'], data_test['gender'], 'man_token', 'woman_token')"
   ]
  },
  {
   "cell_type": "code",
   "execution_count": 22,
   "metadata": {},
   "outputs": [
    {
     "data": {
      "text/plain": [
       "\"                I shll always ponder...until the day I die.  I was at CYT all day. It was almost scary. Like when Jenny popped out of a corner and was like 'LAURA!' and scared me so bad I triped and ran into a microphone stand and made it fall over. Bekah just laughed. Haha. Then this one guy named Jermey was like 'Come sell popcorn with me!' andI was like 'No thanks...' Even though he cut his mullet he will eternally scare me. Then he liked grabbed my shirt and was like 'COME SELLL POPPED CORN WITH ME!' so I kicked him and ran away. Freako rapist.  At the end of the second show Jacelin (I totally cannot spell her name!) and I we hidding in the balconey and whenever Bekah would pass by we would yell 'BEKKKKKKAHHHHHH!!!!!'  then hide behind the railing. She never even noticed. Haha. So then we told her afterwords what we did and she was like 'You did??' she laughed.   I found out who my sisters secret pal is! Its Jauclin!! and Hannah thinks its Taylor. Hahah.   I like knowing things other people don't.  Jacelin told me about this guy at her school who is her friends boyfriend and he has a list and whenever people make him mad he puts them on 'The List' and I was like 'Heyyyyy, that was MY idea!!' I have had a list forever!!!! Then Lauren copied me too.. Gosh, I guess I am justr to amazing for some people to handle. Righhhttt.  During one of the scenes in the play this kid named Kasey is supposed to say 'Hi Fern!' (fern is one of the girls names) and he said it in the funniest voice I have ever heard. It was the voice weird guys use when they are madly in love 'Hiiiiiii Phhh..ern!!'  so everyone on stage laughed so immensly hard that none of them could say their lines. I laughed too.  By the end of the second show I had gotten even sicker! Its so sad. I was so dizzy I could barley stand :(  Oh well.  Another night, another trauma- the sotry of my WONDERFUL life!! [i'm not kidding, i do have a great life!]         man_token\""
      ]
     },
     "execution_count": 22,
     "metadata": {},
     "output_type": "execute_result"
    }
   ],
   "source": [
    "texts_train[0]"
   ]
  },
  {
   "cell_type": "code",
   "execution_count": 23,
   "metadata": {},
   "outputs": [],
   "source": [
    "def age_group(age):\n",
    "    if age < 20:\n",
    "        return 0\n",
    "    elif age < 30:\n",
    "        return 1\n",
    "    return 2 "
   ]
  },
  {
   "cell_type": "code",
   "execution_count": 24,
   "metadata": {},
   "outputs": [],
   "source": [
    "y_train_group = np.array([age_group(y) for y in y_train])\n",
    "y_test_group = np.array([age_group(y) for y in y_test])"
   ]
  },
  {
   "cell_type": "code",
   "execution_count": 25,
   "metadata": {},
   "outputs": [
    {
     "data": {
      "text/plain": [
       "(array([18888.,     0.,     0.,     0.,     0., 25694.,     0.,     0.,\n",
       "            0.,  9921.]),\n",
       " array([0. , 0.2, 0.4, 0.6, 0.8, 1. , 1.2, 1.4, 1.6, 1.8, 2. ]),\n",
       " <a list of 10 Patch objects>)"
      ]
     },
     "execution_count": 25,
     "metadata": {},
     "output_type": "execute_result"
    },
    {
     "data": {
      "image/png": "[encoded data removed]",
      "text/plain": [
       "<Figure size 432x288 with 1 Axes>"
      ]
     },
     "metadata": {
      "needs_background": "light"
     },
     "output_type": "display_data"
    }
   ],
   "source": [
    "plt.hist(y_train_group)"
   ]
  },
  {
   "cell_type": "code",
   "execution_count": 26,
   "metadata": {},
   "outputs": [],
   "source": [
    "NUM_CLASESS = 3"
   ]
  },
  {
   "cell_type": "code",
   "execution_count": 27,
   "metadata": {},
   "outputs": [],
   "source": [
    "from sklearn.feature_extraction.text import CountVectorizer, TfidfVectorizer\n",
    "\n",
    "vectorizer = CountVectorizer(min_df = 2, max_df=0.85)\n",
    "X_train_bow = vectorizer.fit_transform(texts_train)\n",
    "X_test_bow = vectorizer.transform(texts_test)"
   ]
  },
  {
   "cell_type": "code",
   "execution_count": 28,
   "metadata": {},
   "outputs": [
    {
     "data": {
      "text/plain": [
       "(True, True)"
      ]
     },
     "execution_count": 28,
     "metadata": {},
     "output_type": "execute_result"
    }
   ],
   "source": [
    "'man_token' in vectorizer.vocabulary_, 'woman_token' in vectorizer.vocabulary_"
   ]
  },
  {
   "cell_type": "markdown",
   "metadata": {},
   "source": [
    "Transform text to features using BOW and tf-idf. "
   ]
  },
  {
   "cell_type": "code",
   "execution_count": 29,
   "metadata": {},
   "outputs": [],
   "source": [
    "vectorizer_tf_idf = TfidfVectorizer(min_df = 2, max_df=0.85)\n",
    "X_train_tf_idf = vectorizer_tf_idf.fit_transform(texts_train)\n",
    "X_test_tf_idf = vectorizer_tf_idf.transform(texts_test)"
   ]
  },
  {
   "cell_type": "code",
   "execution_count": 30,
   "metadata": {},
   "outputs": [],
   "source": [
    "vectorizer_bigram = CountVectorizer(min_df = 2, max_df=0.85, ngram_range = (2,2))\n",
    "X_train_bigram = vectorizer_bigram.fit_transform(texts_train)\n",
    "X_test_bigram = vectorizer_bigram.transform(texts_test)"
   ]
  },
  {
   "cell_type": "markdown",
   "metadata": {},
   "source": [
    "We will compare different ways to fit svm. Let's start with simple SVM with different parametr C."
   ]
  },
  {
   "cell_type": "code",
   "execution_count": 57,
   "metadata": {},
   "outputs": [],
   "source": [
    "from sklearn.metrics import roc_auc_score, roc_curve, accuracy_score, plot_confusion_matrix, cohen_kappa_score\n",
    "\n",
    "def apply_model(name, X, y, model, convert_to_binary = False):\n",
    "    y_pred = model.predict(X)\n",
    "    if convert_to_binary:\n",
    "        y_pred = [age_group(age) for age in y_pred]\n",
    "    else:   \n",
    "        plot_confusion_matrix(model, X, y, labels = [0,1,2])\n",
    "    print(f'{name} results:')\n",
    "    print(f\"Model accuracy: {accuracy_score(y, y_pred):.3f}\")\n",
    "    print(f\"Model kappa score: {cohen_kappa_score(y, y_pred):.3f}\")"
   ]
  },
  {
   "cell_type": "code",
   "execution_count": 77,
   "metadata": {},
   "outputs": [],
   "source": [
    "from sklearn import svm\n",
    "\n",
    "svm_model = svm.LinearSVC(C=1.0, max_iter = 1e3)"
   ]
  },
  {
   "cell_type": "code",
   "execution_count": 78,
   "metadata": {},
   "outputs": [
    {
     "name": "stdout",
     "output_type": "stream",
     "text": [
      "CPU times: user 51.2 s, sys: 54.5 ms, total: 51.2 s\n",
      "Wall time: 51.3 s\n"
     ]
    },
    {
     "data": {
      "text/plain": [
       "LinearSVC(max_iter=1000.0)"
      ]
     },
     "execution_count": 78,
     "metadata": {},
     "output_type": "execute_result"
    }
   ],
   "source": [
    "%%time\n",
    "svm_model.fit(X_train_bow, y_train_group)"
   ]
  },
  {
   "cell_type": "code",
   "execution_count": 79,
   "metadata": {},
   "outputs": [
    {
     "name": "stdout",
     "output_type": "stream",
     "text": [
      "linear model simple  results:\n",
      "Model accuracy: 0.588\n",
      "Model kappa score: 0.338\n"
     ]
    },
    {
     "data": {
      "image/png": "[encoded data removed]",
      "text/plain": [
       "<Figure size 432x288 with 2 Axes>"
      ]
     },
     "metadata": {
      "needs_background": "light"
     },
     "output_type": "display_data"
    }
   ],
   "source": [
    "apply_model('linear model simple ', X_test_bow, y_test_group, svm_model, convert_to_binary = False)"
   ]
  },
  {
   "cell_type": "code",
   "execution_count": 80,
   "metadata": {},
   "outputs": [],
   "source": [
    "svm_model2 = svm.LinearSVC(C=0.1, max_iter = 1e3)"
   ]
  },
  {
   "cell_type": "code",
   "execution_count": 81,
   "metadata": {},
   "outputs": [
    {
     "name": "stdout",
     "output_type": "stream",
     "text": [
      "CPU times: user 1min, sys: 165 ms, total: 1min\n",
      "Wall time: 1min\n"
     ]
    },
    {
     "data": {
      "text/plain": [
       "LinearSVC(C=0.1, max_iter=1000.0)"
      ]
     },
     "execution_count": 81,
     "metadata": {},
     "output_type": "execute_result"
    }
   ],
   "source": [
    "%%time\n",
    "svm_model2.fit(X_train_bow, y_train_group)"
   ]
  },
  {
   "cell_type": "code",
   "execution_count": 83,
   "metadata": {},
   "outputs": [
    {
     "name": "stdout",
     "output_type": "stream",
     "text": [
      "linear model simple  results:\n",
      "Model accuracy: 0.617\n",
      "Model kappa score: 0.371\n"
     ]
    },
    {
     "data": {
      "image/png": "[encoded data removed]",
      "text/plain": [
       "<Figure size 432x288 with 2 Axes>"
      ]
     },
     "metadata": {
      "needs_background": "light"
     },
     "output_type": "display_data"
    }
   ],
   "source": [
    "apply_model('linear model simple ', X_test_bow, y_test_group, svm_model2, convert_to_binary = False)"
   ]
  },
  {
   "cell_type": "code",
   "execution_count": 84,
   "metadata": {},
   "outputs": [
    {
     "name": "stdout",
     "output_type": "stream",
     "text": [
      "linear model simple  results:\n",
      "Model accuracy: 0.627\n",
      "Model kappa score: 0.351\n"
     ]
    },
    {
     "data": {
      "image/png": "[encoded data removed]",
      "text/plain": [
       "<Figure size 432x288 with 2 Axes>"
      ]
     },
     "metadata": {
      "needs_background": "light"
     },
     "output_type": "display_data"
    }
   ],
   "source": [
    "svm_model3 = svm.LinearSVC(C=0.001, max_iter = 1e3)\n",
    "svm_model3.fit(X_train_bow, y_train_group)\n",
    "apply_model('linear model simple ', X_test_bow, y_test_group, svm_model3, convert_to_binary = False)"
   ]
  },
  {
   "cell_type": "markdown",
   "metadata": {},
   "source": [
    "So, here smaller C is better. \n",
    "\n",
    "But what will be if we try to predict an exact age instead of predicting age group?"
   ]
  },
  {
   "cell_type": "code",
   "execution_count": 93,
   "metadata": {},
   "outputs": [
    {
     "name": "stdout",
     "output_type": "stream",
     "text": [
      "linear model simple  results:\n",
      "Model accuracy: 0.529\n",
      "Model kappa score: 0.205\n",
      "CPU times: user 29.1 s, sys: 76.7 ms, total: 29.2 s\n",
      "Wall time: 29.3 s\n"
     ]
    }
   ],
   "source": [
    "%%time\n",
    "svr = svm.LinearSVR(C=1, max_iter = 1e3)\n",
    "svr.fit(X_train_bow, y_train)\n",
    "apply_model('linear model simple ', X_test_bow, y_test_group, svr, convert_to_binary = True)"
   ]
  },
  {
   "cell_type": "code",
   "execution_count": 94,
   "metadata": {},
   "outputs": [
    {
     "name": "stdout",
     "output_type": "stream",
     "text": [
      "linear model simple  results:\n",
      "Model accuracy: 0.556\n",
      "Model kappa score: 0.212\n",
      "CPU times: user 25.1 s, sys: 73.8 ms, total: 25.1 s\n",
      "Wall time: 25.2 s\n"
     ]
    }
   ],
   "source": [
    "%%time\n",
    "svr = svm.LinearSVR(C=0.1, max_iter = 1e3)\n",
    "svr.fit(X_train_bow, y_train)\n",
    "apply_model('linear model simple ', X_test_bow, y_test_group, svr, convert_to_binary = True)"
   ]
  },
  {
   "cell_type": "code",
   "execution_count": 95,
   "metadata": {},
   "outputs": [
    {
     "name": "stdout",
     "output_type": "stream",
     "text": [
      "linear model simple  results:\n",
      "Model accuracy: 0.533\n",
      "Model kappa score: 0.231\n",
      "CPU times: user 3.65 s, sys: 53.7 ms, total: 3.7 s\n",
      "Wall time: 3.71 s\n"
     ]
    }
   ],
   "source": [
    "%%time\n",
    "svr = svm.LinearSVR(C=0.001, max_iter = 1e3)\n",
    "svr.fit(X_train_bow, y_train)\n",
    "apply_model('linear model simple ', X_test_bow, y_test_group, svr, convert_to_binary = True)"
   ]
  },
  {
   "cell_type": "markdown",
   "metadata": {},
   "source": [
    "Anouther way to train our model is to say that despite the fact that we have a classification task let's fit a regression model!"
   ]
  },
  {
   "cell_type": "code",
   "execution_count": 96,
   "metadata": {},
   "outputs": [
    {
     "name": "stdout",
     "output_type": "stream",
     "text": [
      "Model accuracy: 0.436\n",
      "Model kappa score: 0.124\n",
      "CPU times: user 28.3 s, sys: 66.6 ms, total: 28.4 s\n",
      "Wall time: 28.4 s\n"
     ]
    }
   ],
   "source": [
    "%%time\n",
    "svr2 = svm.LinearSVR(C=1, max_iter = 1e3)\n",
    "svr2.fit(X_train_bow, y_train_group)\n",
    "\n",
    "y_pred =  [int(y + 0.5) for y in svr2.predict(X_test_bow)] \n",
    "print(f\"Model accuracy: {accuracy_score(y_test_group, y_pred):.3f}\")\n",
    "print(f\"Model kappa score: {cohen_kappa_score(y_test_group, y_pred):.3f}\")"
   ]
  },
  {
   "cell_type": "code",
   "execution_count": 97,
   "metadata": {},
   "outputs": [
    {
     "name": "stdout",
     "output_type": "stream",
     "text": [
      "Model accuracy: 0.513\n",
      "Model kappa score: 0.182\n",
      "CPU times: user 27.9 s, sys: 78.3 ms, total: 28 s\n",
      "Wall time: 28 s\n"
     ]
    }
   ],
   "source": [
    "%%time\n",
    "svr2 = svm.LinearSVR(C=0.1, max_iter = 1e3)\n",
    "svr2.fit(X_train_bow, y_train_group)\n",
    "\n",
    "y_pred =  [int(y + 0.5) for y in svr2.predict(X_test_bow)] \n",
    "print(f\"Model accuracy: {accuracy_score(y_test_group, y_pred):.3f}\")\n",
    "print(f\"Model kappa score: {cohen_kappa_score(y_test_group, y_pred):.3f}\")"
   ]
  },
  {
   "cell_type": "code",
   "execution_count": 98,
   "metadata": {},
   "outputs": [
    {
     "name": "stdout",
     "output_type": "stream",
     "text": [
      "Model accuracy: 0.536\n",
      "Model kappa score: 0.150\n",
      "CPU times: user 12.9 s, sys: 55 ms, total: 13 s\n",
      "Wall time: 13 s\n"
     ]
    }
   ],
   "source": [
    "%%time\n",
    "svr2 = svm.LinearSVR(C=0.001, max_iter = 1e3)\n",
    "svr2.fit(X_train_bow, y_train_group)\n",
    "\n",
    "y_pred =  [int(y + 0.5) for y in svr2.predict(X_test_bow)] \n",
    "print(f\"Model accuracy: {accuracy_score(y_test_group, y_pred):.3f}\")\n",
    "print(f\"Model kappa score: {cohen_kappa_score(y_test_group, y_pred):.3f}\")"
   ]
  }
 ],
 "metadata": {
  "kernelspec": {
   "display_name": "Python 3",
   "language": "python",
   "name": "python3"
  },
  "language_info": {
   "codemirror_mode": {
    "name": "ipython",
    "version": 3
   },
   "file_extension": ".py",
   "mimetype": "text/x-python",
   "name": "python",
   "nbconvert_exporter": "python",
   "pygments_lexer": "ipython3",
   "version": "3.6.10"
  }
 },
 "nbformat": 4,
 "nbformat_minor": 4
}
