{
 "cells": [
  {
   "cell_type": "markdown",
   "metadata": {},
   "source": [
    "# Age Classification"
   ]
  },
  {
   "cell_type": "markdown",
   "metadata": {},
   "source": [
    "In this task we use neural network to improve our results in age classification( see  task 1)"
   ]
  },
  {
   "cell_type": "code",
   "execution_count": 5,
   "metadata": {},
   "outputs": [],
   "source": [
    "import re\n",
    "import matplotlib.pyplot as plt\n",
    "import seaborn as sns\n",
    "import numpy as np\n",
    "import os\n",
    "import pandas as pd "
   ]
  },
  {
   "cell_type": "code",
   "execution_count": 6,
   "metadata": {},
   "outputs": [],
   "source": [
    "df = pd.read_csv('blogtext.csv')"
   ]
  },
  {
   "cell_type": "code",
   "execution_count": 7,
   "metadata": {},
   "outputs": [
    {
     "data": {
      "text/html": [
       "<div>\n",
       "<style scoped>\n",
       "    .dataframe tbody tr th:only-of-type {\n",
       "        vertical-align: middle;\n",
       "    }\n",
       "\n",
       "    .dataframe tbody tr th {\n",
       "        vertical-align: top;\n",
       "    }\n",
       "\n",
       "    .dataframe thead th {\n",
       "        text-align: right;\n",
       "    }\n",
       "</style>\n",
       "<table border=\"1\" class=\"dataframe\">\n",
       "  <thead>\n",
       "    <tr style=\"text-align: right;\">\n",
       "      <th></th>\n",
       "      <th>id</th>\n",
       "      <th>gender</th>\n",
       "      <th>age</th>\n",
       "      <th>topic</th>\n",
       "      <th>sign</th>\n",
       "      <th>date</th>\n",
       "      <th>text</th>\n",
       "    </tr>\n",
       "  </thead>\n",
       "  <tbody>\n",
       "    <tr>\n",
       "      <th>0</th>\n",
       "      <td>2059027</td>\n",
       "      <td>male</td>\n",
       "      <td>15</td>\n",
       "      <td>Student</td>\n",
       "      <td>Leo</td>\n",
       "      <td>14,May,2004</td>\n",
       "      <td>Info has been found (+/- 100 pages,...</td>\n",
       "    </tr>\n",
       "    <tr>\n",
       "      <th>1</th>\n",
       "      <td>2059027</td>\n",
       "      <td>male</td>\n",
       "      <td>15</td>\n",
       "      <td>Student</td>\n",
       "      <td>Leo</td>\n",
       "      <td>13,May,2004</td>\n",
       "      <td>These are the team members:   Drewe...</td>\n",
       "    </tr>\n",
       "    <tr>\n",
       "      <th>2</th>\n",
       "      <td>2059027</td>\n",
       "      <td>male</td>\n",
       "      <td>15</td>\n",
       "      <td>Student</td>\n",
       "      <td>Leo</td>\n",
       "      <td>12,May,2004</td>\n",
       "      <td>In het kader van kernfusie op aarde...</td>\n",
       "    </tr>\n",
       "    <tr>\n",
       "      <th>3</th>\n",
       "      <td>2059027</td>\n",
       "      <td>male</td>\n",
       "      <td>15</td>\n",
       "      <td>Student</td>\n",
       "      <td>Leo</td>\n",
       "      <td>12,May,2004</td>\n",
       "      <td>testing!!!  testing!!!</td>\n",
       "    </tr>\n",
       "    <tr>\n",
       "      <th>4</th>\n",
       "      <td>3581210</td>\n",
       "      <td>male</td>\n",
       "      <td>33</td>\n",
       "      <td>InvestmentBanking</td>\n",
       "      <td>Aquarius</td>\n",
       "      <td>11,June,2004</td>\n",
       "      <td>Thanks to Yahoo!'s Toolbar I can ...</td>\n",
       "    </tr>\n",
       "  </tbody>\n",
       "</table>\n",
       "</div>"
      ],
      "text/plain": [
       "        id gender  age              topic      sign          date  \\\n",
       "0  2059027   male   15            Student       Leo   14,May,2004   \n",
       "1  2059027   male   15            Student       Leo   13,May,2004   \n",
       "2  2059027   male   15            Student       Leo   12,May,2004   \n",
       "3  2059027   male   15            Student       Leo   12,May,2004   \n",
       "4  3581210   male   33  InvestmentBanking  Aquarius  11,June,2004   \n",
       "\n",
       "                                                text  \n",
       "0             Info has been found (+/- 100 pages,...  \n",
       "1             These are the team members:   Drewe...  \n",
       "2             In het kader van kernfusie op aarde...  \n",
       "3                   testing!!!  testing!!!            \n",
       "4               Thanks to Yahoo!'s Toolbar I can ...  "
      ]
     },
     "execution_count": 7,
     "metadata": {},
     "output_type": "execute_result"
    }
   ],
   "source": [
    "df.head()"
   ]
  },
  {
   "cell_type": "code",
   "execution_count": 8,
   "metadata": {},
   "outputs": [
    {
     "name": "stdout",
     "output_type": "stream",
     "text": [
      "<class 'pandas.core.frame.DataFrame'>\n",
      "RangeIndex: 681284 entries, 0 to 681283\n",
      "Data columns (total 7 columns):\n",
      " #   Column  Non-Null Count   Dtype \n",
      "---  ------  --------------   ----- \n",
      " 0   id      681284 non-null  int64 \n",
      " 1   gender  681284 non-null  object\n",
      " 2   age     681284 non-null  int64 \n",
      " 3   topic   681284 non-null  object\n",
      " 4   sign    681284 non-null  object\n",
      " 5   date    681284 non-null  object\n",
      " 6   text    681284 non-null  object\n",
      "dtypes: int64(2), object(5)\n",
      "memory usage: 36.4+ MB\n"
     ]
    }
   ],
   "source": [
    "df.info()"
   ]
  },
  {
   "cell_type": "markdown",
   "metadata": {},
   "source": [
    "delete unnecessary columns"
   ]
  },
  {
   "cell_type": "code",
   "execution_count": 9,
   "metadata": {},
   "outputs": [],
   "source": [
    "df.drop(['id','date', 'sign', 'topic'], axis=1, inplace=True)"
   ]
  },
  {
   "cell_type": "markdown",
   "metadata": {},
   "source": [
    "**Some stats about gender:**"
   ]
  },
  {
   "cell_type": "code",
   "execution_count": 10,
   "metadata": {},
   "outputs": [
    {
     "data": {
      "text/plain": [
       "count     681284\n",
       "unique         2\n",
       "top         male\n",
       "freq      345193\n",
       "Name: gender, dtype: object"
      ]
     },
     "execution_count": 10,
     "metadata": {},
     "output_type": "execute_result"
    }
   ],
   "source": [
    "df['gender'].describe()"
   ]
  },
  {
   "cell_type": "code",
   "execution_count": 11,
   "metadata": {},
   "outputs": [
    {
     "data": {
      "text/plain": [
       "<matplotlib.axes._subplots.AxesSubplot at 0x7f8763f4ad30>"
      ]
     },
     "execution_count": 11,
     "metadata": {},
     "output_type": "execute_result"
    },
    {
     "data": {
      "image/png": "[encoded data removed]",
      "text/plain": [
       "<Figure size 432x288 with 1 Axes>"
      ]
     },
     "metadata": {
      "needs_background": "light"
     },
     "output_type": "display_data"
    }
   ],
   "source": [
    "sns.countplot(x=\"gender\", data=df)"
   ]
  },
  {
   "cell_type": "markdown",
   "metadata": {},
   "source": [
    "**Age:**"
   ]
  },
  {
   "cell_type": "code",
   "execution_count": 12,
   "metadata": {},
   "outputs": [
    {
     "data": {
      "text/plain": [
       "count    681284.000000\n",
       "mean         23.932326\n",
       "std           7.786009\n",
       "min          13.000000\n",
       "25%          17.000000\n",
       "50%          24.000000\n",
       "75%          26.000000\n",
       "max          48.000000\n",
       "Name: age, dtype: float64"
      ]
     },
     "execution_count": 12,
     "metadata": {},
     "output_type": "execute_result"
    }
   ],
   "source": [
    "df['age'].describe()"
   ]
  },
  {
   "cell_type": "code",
   "execution_count": 13,
   "metadata": {},
   "outputs": [
    {
     "data": {
      "text/plain": [
       "<matplotlib.axes._subplots.AxesSubplot at 0x7f87691dce48>"
      ]
     },
     "execution_count": 13,
     "metadata": {},
     "output_type": "execute_result"
    },
    {
     "data": {
      "image/png": "[encoded data removed]",
      "text/plain": [
       "<Figure size 1008x432 with 1 Axes>"
      ]
     },
     "metadata": {
      "needs_background": "light"
     },
     "output_type": "display_data"
    }
   ],
   "source": [
    "plt.figure(figsize = (14,6))\n",
    "sns.countplot(x=\"age\", data=df)"
   ]
  },
  {
   "cell_type": "code",
   "execution_count": 14,
   "metadata": {},
   "outputs": [
    {
     "data": {
      "text/plain": [
       "<matplotlib.axes._subplots.AxesSubplot at 0x7f876f71e9e8>"
      ]
     },
     "execution_count": 14,
     "metadata": {},
     "output_type": "execute_result"
    },
    {
     "data": {
      "image/png": "[encoded data removed]",
      "text/plain": [
       "<Figure size 1008x432 with 1 Axes>"
      ]
     },
     "metadata": {
      "needs_background": "light"
     },
     "output_type": "display_data"
    }
   ],
   "source": [
    "plt.figure(figsize = (14,6))\n",
    "sns.countplot(x=\"age\", hue=\"gender\", data=df, )"
   ]
  },
  {
   "cell_type": "markdown",
   "metadata": {},
   "source": [
    "**let's see how long text of blog posts are**"
   ]
  },
  {
   "cell_type": "code",
   "execution_count": 15,
   "metadata": {},
   "outputs": [],
   "source": [
    "df['number of words'] = df['text'].apply( lambda text: len(text.split()))"
   ]
  },
  {
   "cell_type": "code",
   "execution_count": 16,
   "metadata": {},
   "outputs": [
    {
     "data": {
      "text/plain": [
       "count    681284.000000\n",
       "mean        200.786742\n",
       "std         415.160622\n",
       "min           0.000000\n",
       "25%          37.000000\n",
       "50%         112.000000\n",
       "75%         255.000000\n",
       "max      131169.000000\n",
       "Name: number of words, dtype: float64"
      ]
     },
     "execution_count": 16,
     "metadata": {},
     "output_type": "execute_result"
    }
   ],
   "source": [
    "df['number of words'].describe()"
   ]
  },
  {
   "cell_type": "code",
   "execution_count": 17,
   "metadata": {},
   "outputs": [
    {
     "name": "stdout",
     "output_type": "stream",
     "text": [
      "number of empty texts: 3119\n"
     ]
    }
   ],
   "source": [
    "empty_text = len(df[df['number of words'] == 0])\n",
    "print(f'number of empty texts: { empty_text }')"
   ]
  },
  {
   "cell_type": "code",
   "execution_count": 18,
   "metadata": {},
   "outputs": [
    {
     "data": {
      "text/plain": [
       "<matplotlib.axes._subplots.AxesSubplot at 0x7f876f60b4e0>"
      ]
     },
     "execution_count": 18,
     "metadata": {},
     "output_type": "execute_result"
    },
    {
     "data": {
      "image/png": "[encoded data removed]",
      "text/plain": [
       "<Figure size 1008x432 with 1 Axes>"
      ]
     },
     "metadata": {
      "needs_background": "light"
     },
     "output_type": "display_data"
    }
   ],
   "source": [
    "#df['trimmed number of words'] = df['number of words'].apply(lambda x: min(x, 1000))\n",
    "\n",
    "plt.figure(figsize = (14,6))\n",
    "sns.countplot(x=\"number of words\", data=df, orient = 'h')"
   ]
  },
  {
   "cell_type": "code",
   "execution_count": 19,
   "metadata": {},
   "outputs": [],
   "source": [
    "df['gender'] = df['gender'].apply(lambda gender: gender == 'male')"
   ]
  },
  {
   "cell_type": "code",
   "execution_count": null,
   "metadata": {},
   "outputs": [],
   "source": []
  },
  {
   "cell_type": "code",
   "execution_count": 20,
   "metadata": {},
   "outputs": [],
   "source": [
    "data, target = df.drop(['age'], axis=1), df['age']"
   ]
  },
  {
   "cell_type": "code",
   "execution_count": 21,
   "metadata": {},
   "outputs": [
    {
     "data": {
      "text/html": [
       "<div>\n",
       "<style scoped>\n",
       "    .dataframe tbody tr th:only-of-type {\n",
       "        vertical-align: middle;\n",
       "    }\n",
       "\n",
       "    .dataframe tbody tr th {\n",
       "        vertical-align: top;\n",
       "    }\n",
       "\n",
       "    .dataframe thead th {\n",
       "        text-align: right;\n",
       "    }\n",
       "</style>\n",
       "<table border=\"1\" class=\"dataframe\">\n",
       "  <thead>\n",
       "    <tr style=\"text-align: right;\">\n",
       "      <th></th>\n",
       "      <th>gender</th>\n",
       "      <th>text</th>\n",
       "      <th>number of words</th>\n",
       "    </tr>\n",
       "  </thead>\n",
       "  <tbody>\n",
       "    <tr>\n",
       "      <th>0</th>\n",
       "      <td>True</td>\n",
       "      <td>Info has been found (+/- 100 pages,...</td>\n",
       "      <td>28</td>\n",
       "    </tr>\n",
       "    <tr>\n",
       "      <th>1</th>\n",
       "      <td>True</td>\n",
       "      <td>These are the team members:   Drewe...</td>\n",
       "      <td>20</td>\n",
       "    </tr>\n",
       "    <tr>\n",
       "      <th>2</th>\n",
       "      <td>True</td>\n",
       "      <td>In het kader van kernfusie op aarde...</td>\n",
       "      <td>4326</td>\n",
       "    </tr>\n",
       "    <tr>\n",
       "      <th>3</th>\n",
       "      <td>True</td>\n",
       "      <td>testing!!!  testing!!!</td>\n",
       "      <td>2</td>\n",
       "    </tr>\n",
       "    <tr>\n",
       "      <th>4</th>\n",
       "      <td>True</td>\n",
       "      <td>Thanks to Yahoo!'s Toolbar I can ...</td>\n",
       "      <td>65</td>\n",
       "    </tr>\n",
       "    <tr>\n",
       "      <th>...</th>\n",
       "      <td>...</td>\n",
       "      <td>...</td>\n",
       "      <td>...</td>\n",
       "    </tr>\n",
       "    <tr>\n",
       "      <th>681279</th>\n",
       "      <td>True</td>\n",
       "      <td>Dear Susan,  I could write some really ...</td>\n",
       "      <td>40</td>\n",
       "    </tr>\n",
       "    <tr>\n",
       "      <th>681280</th>\n",
       "      <td>True</td>\n",
       "      <td>Dear Susan,  'I have the second yeast i...</td>\n",
       "      <td>67</td>\n",
       "    </tr>\n",
       "    <tr>\n",
       "      <th>681281</th>\n",
       "      <td>True</td>\n",
       "      <td>Dear Susan,  Your 'boyfriend' is fuckin...</td>\n",
       "      <td>11</td>\n",
       "    </tr>\n",
       "    <tr>\n",
       "      <th>681282</th>\n",
       "      <td>True</td>\n",
       "      <td>Dear Susan:    Just to clarify, I am as...</td>\n",
       "      <td>65</td>\n",
       "    </tr>\n",
       "    <tr>\n",
       "      <th>681283</th>\n",
       "      <td>True</td>\n",
       "      <td>Hey everybody...and Susan,  You might a...</td>\n",
       "      <td>231</td>\n",
       "    </tr>\n",
       "  </tbody>\n",
       "</table>\n",
       "<p>681284 rows × 3 columns</p>\n",
       "</div>"
      ],
      "text/plain": [
       "        gender                                               text  \\\n",
       "0         True             Info has been found (+/- 100 pages,...   \n",
       "1         True             These are the team members:   Drewe...   \n",
       "2         True             In het kader van kernfusie op aarde...   \n",
       "3         True                   testing!!!  testing!!!             \n",
       "4         True               Thanks to Yahoo!'s Toolbar I can ...   \n",
       "...        ...                                                ...   \n",
       "681279    True         Dear Susan,  I could write some really ...   \n",
       "681280    True         Dear Susan,  'I have the second yeast i...   \n",
       "681281    True         Dear Susan,  Your 'boyfriend' is fuckin...   \n",
       "681282    True         Dear Susan:    Just to clarify, I am as...   \n",
       "681283    True         Hey everybody...and Susan,  You might a...   \n",
       "\n",
       "        number of words  \n",
       "0                    28  \n",
       "1                    20  \n",
       "2                  4326  \n",
       "3                     2  \n",
       "4                    65  \n",
       "...                 ...  \n",
       "681279               40  \n",
       "681280               67  \n",
       "681281               11  \n",
       "681282               65  \n",
       "681283              231  \n",
       "\n",
       "[681284 rows x 3 columns]"
      ]
     },
     "execution_count": 21,
     "metadata": {},
     "output_type": "execute_result"
    }
   ],
   "source": [
    "data"
   ]
  },
  {
   "cell_type": "markdown",
   "metadata": {},
   "source": [
    "One of the problems  with neural nets that often it takes a lot of time, to train NN model. So, for simplicity we will use only $ 20\\%$ of our data"
   ]
  },
  {
   "cell_type": "code",
   "execution_count": 25,
   "metadata": {},
   "outputs": [],
   "source": [
    "data_part = data[::5]\n",
    "target_part = target[::5]"
   ]
  },
  {
   "cell_type": "markdown",
   "metadata": {},
   "source": [
    "Split data on train and test"
   ]
  },
  {
   "cell_type": "code",
   "execution_count": 26,
   "metadata": {},
   "outputs": [],
   "source": [
    "from sklearn.model_selection import train_test_split\n",
    "data_train, data_test, y_train, y_test = train_test_split(data_part, target_part, test_size=0.2, random_state=42)"
   ]
  },
  {
   "cell_type": "markdown",
   "metadata": {},
   "source": [
    "Now we need to prepare our data. To do that, we split out texts to words then transform all words into numbers. \n",
    "Also, we need to have fix size of text for RNN models, so we use padding’s to solve this problem. "
   ]
  },
  {
   "cell_type": "code",
   "execution_count": 27,
   "metadata": {},
   "outputs": [],
   "source": [
    "texts_train = data_train['text']\n",
    "texts_test =  data_test['text']"
   ]
  },
  {
   "cell_type": "code",
   "execution_count": 30,
   "metadata": {},
   "outputs": [],
   "source": [
    "from nltk.tokenize import TweetTokenizer\n",
    "tokenizer = TweetTokenizer()\n",
    "preprocess = lambda text: tokenizer.tokenize(text.lower())"
   ]
  },
  {
   "cell_type": "code",
   "execution_count": 31,
   "metadata": {},
   "outputs": [],
   "source": [
    "texts_train = [preprocess(text) for text in texts_train]\n",
    "texts_test = [preprocess(text) for text in texts_test]\n"
   ]
  },
  {
   "cell_type": "code",
   "execution_count": 32,
   "metadata": {},
   "outputs": [
    {
     "name": "stdout",
     "output_type": "stream",
     "text": [
      " Encoded data  example: \n",
      "\n",
      "X:  [45, 23, 695, 2, 4, 164, 292, 248, 355, 5, 28, 92, 23, 81, 18, 167, 156, 28440, 15, 740, 40, 240, 203, 136, 5962, 10, 1483, 64, 2852, 165, 4679, 1174, 23182, 15, 6532, 2, 1779, 14, 7, 196, 8, 1316, 1, 4, 19, 23, 245, 5, 97, 1407, 3870, 59, 1, 11, 19, 23, 5192, 1, 106, 38, 8697, 10209, 2, 35, 19, 3, 1550, 6235, 18, 850, 100, 7967, 389, 10, 23, 172, 1, 4, 369, 39, 106, 50, 35, 90, 1160, 734, 2, 1770, 119, 28, 59, 364, 1, 75, 1407, 1, 4, 63, 45, 40, 18949, 56, 3, 14173, 432, 567, 231, 5, 36832, 6475, 2, 22, 4, 71, 52, 63, 132, 435, 3, 296, 8, 9828, 3, 2453, 8, 167, 83, 17, 97, 20, 1743, 395, 364, 169, 1, 4, 147, 7, 700, 23673, 364, 5, 91, 2, 42, 59, 10, 3361, 1747, 2, 3416, 878, 18, 183, 3, 132, 62, 10, 502, 1] \n",
      "\n"
     ]
    }
   ],
   "source": [
    "from keras.preprocessing.text import Tokenizer\n",
    "\n",
    "word_tokenizer = Tokenizer()             \n",
    "word_tokenizer.fit_on_texts(texts_train)         \n",
    "\n",
    "X_train = word_tokenizer.texts_to_sequences(texts_train)\n",
    "X_test =  word_tokenizer.texts_to_sequences(texts_test)\n",
    "\n",
    "# look at first encoded data point\n",
    "print(\" Encoded data  example: \\n\")\n",
    "print('X: ', X_train[0], '\\n')"
   ]
  },
  {
   "cell_type": "code",
   "execution_count": 33,
   "metadata": {},
   "outputs": [],
   "source": [
    "from tensorflow.keras.preprocessing.sequence import pad_sequences\n",
    "MAX_SEQ_LENGTH = 256\n",
    "\n",
    "X_train = pad_sequences(X_train, maxlen=MAX_SEQ_LENGTH, padding=\"pre\", truncating=\"post\")\n",
    "X_test = pad_sequences(X_test, maxlen=MAX_SEQ_LENGTH, padding=\"pre\", truncating=\"post\")"
   ]
  },
  {
   "cell_type": "code",
   "execution_count": 34,
   "metadata": {},
   "outputs": [
    {
     "name": "stdout",
     "output_type": "stream",
     "text": [
      "VOCABULARY_SIZE:  316559\n"
     ]
    }
   ],
   "source": [
    "VOCABULARY_SIZE = np.max(X_train) + 1\n",
    "print('VOCABULARY_SIZE: ', VOCABULARY_SIZE)"
   ]
  },
  {
   "cell_type": "markdown",
   "metadata": {},
   "source": [
    "There is always the question whether or not to use pre-trained embeddings. In this work we decided to use pre-trained   fasttext embeddings but allow model to change them. "
   ]
  },
  {
   "cell_type": "code",
   "execution_count": 35,
   "metadata": {},
   "outputs": [],
   "source": [
    "import gensim.downloader \n",
    "embeddings = gensim.downloader.load(\"fasttext-wiki-news-subwords-300\")\n",
    "EMBEDDING_SIZE = 300"
   ]
  },
  {
   "cell_type": "code",
   "execution_count": 36,
   "metadata": {},
   "outputs": [
    {
     "name": "stdout",
     "output_type": "stream",
     "text": [
      "number of words which don't have embedding =  197843\n"
     ]
    }
   ],
   "source": [
    "# create an empty embedding matix\n",
    "embedding_weights = np.zeros((VOCABULARY_SIZE, EMBEDDING_SIZE))\n",
    "# create a word to index dictionary mapping\n",
    "word2id = word_tokenizer.word_index\n",
    "# copy vectors from word2vec model to the words present in corpus\n",
    "not_in_embed = []\n",
    "for word, index in word2id.items():\n",
    "    try:\n",
    "        embedding_weights[index, :] = embeddings[word]\n",
    "    except KeyError:\n",
    "        not_in_embed.append(word)\n",
    "        \n",
    "print(\"number of words which don't have embedding = \", len(not_in_embed))"
   ]
  },
  {
   "cell_type": "code",
   "execution_count": 37,
   "metadata": {},
   "outputs": [
    {
     "name": "stdout",
     "output_type": "stream",
     "text": [
      "some words which don't have embedding:  [\"i'm\", 'mmchronic', 'scheister', 'christospective', 'yoozh', 'rockwell-esque', 'scan-tron', 'avontuurlijke', 'halooooooo', \"turret's\", 'exahausted', 'sub-profiles', \"percy's\", 'adultchildrenspeakoutaboutsamesexparents', 'niya-jina', 'thoughtsabout', 'planne', \"freder's\", 'soon-to-be-closed', 'calve-deep']\n"
     ]
    }
   ],
   "source": [
    "print(\"some words which don't have embedding: \" ,not_in_embed[::10000] )"
   ]
  },
  {
   "cell_type": "markdown",
   "metadata": {},
   "source": [
    "yeah,  as you may see there is the problem with сontraction, slangs and so on. But as we decided to tune embeddings that shouldn’t effect so much.    "
   ]
  },
  {
   "cell_type": "code",
   "execution_count": 38,
   "metadata": {},
   "outputs": [],
   "source": [
    "def age_group(age):\n",
    "    if age < 20:\n",
    "        return 0\n",
    "    elif age < 30:\n",
    "        return 1\n",
    "    return 2 "
   ]
  },
  {
   "cell_type": "code",
   "execution_count": 53,
   "metadata": {},
   "outputs": [],
   "source": [
    "y_train_group = np.array([age_group(y) for y in y_train])\n",
    "y_test_group = np.array([age_group(y) for y in y_test])"
   ]
  },
  {
   "cell_type": "code",
   "execution_count": 54,
   "metadata": {},
   "outputs": [
    {
     "data": {
      "text/plain": [
       "(array([37796.,     0.,     0.,     0.,     0., 51436.,     0.,     0.,\n",
       "            0., 19773.]),\n",
       " array([0. , 0.2, 0.4, 0.6, 0.8, 1. , 1.2, 1.4, 1.6, 1.8, 2. ]),\n",
       " <a list of 10 Patch objects>)"
      ]
     },
     "execution_count": 54,
     "metadata": {},
     "output_type": "execute_result"
    },
    {
     "data": {
      "image/png": "[encoded data removed]",
      "text/plain": [
       "<Figure size 432x288 with 1 Axes>"
      ]
     },
     "metadata": {
      "needs_background": "light"
     },
     "output_type": "display_data"
    }
   ],
   "source": [
    "plt.hist(y_train_group)"
   ]
  },
  {
   "cell_type": "code",
   "execution_count": 55,
   "metadata": {},
   "outputs": [],
   "source": [
    "NUM_CLASESS = 3"
   ]
  },
  {
   "cell_type": "markdown",
   "metadata": {},
   "source": [
    "## CNN"
   ]
  },
  {
   "cell_type": "markdown",
   "metadata": {},
   "source": [
    "Let's start our experiments with convolutional neural network. "
   ]
  },
  {
   "cell_type": "code",
   "execution_count": 56,
   "metadata": {},
   "outputs": [],
   "source": [
    "from tensorflow.keras import layers, Sequential\n",
    "from tensorflow.keras.callbacks import ModelCheckpoint\n",
    "\n",
    "model_cnn = Sequential()\n",
    "model_cnn.add(layers.Embedding(VOCABULARY_SIZE, EMBEDDING_SIZE, input_length=MAX_SEQ_LENGTH, weights = [embedding_weights]))\n",
    "model_cnn.add(layers.Conv1D(250, 5, padding='valid', activation='relu'))\n",
    "model_cnn.add(layers.GlobalMaxPooling1D())\n",
    "model_cnn.add(layers.Dense(128, activation='relu'))\n",
    "model_cnn.add(layers.Dense(NUM_CLASESS, activation='softmax'))"
   ]
  },
  {
   "cell_type": "code",
   "execution_count": 57,
   "metadata": {},
   "outputs": [
    {
     "name": "stdout",
     "output_type": "stream",
     "text": [
      "Model: \"sequential_2\"\n",
      "_________________________________________________________________\n",
      "Layer (type)                 Output Shape              Param #   \n",
      "=================================================================\n",
      "embedding_2 (Embedding)      (None, 256, 300)          94967700  \n",
      "_________________________________________________________________\n",
      "conv1d_2 (Conv1D)            (None, 252, 250)          375250    \n",
      "_________________________________________________________________\n",
      "global_max_pooling1d_2 (Glob (None, 250)               0         \n",
      "_________________________________________________________________\n",
      "dense_4 (Dense)              (None, 128)               32128     \n",
      "_________________________________________________________________\n",
      "dense_5 (Dense)              (None, 3)                 387       \n",
      "=================================================================\n",
      "Total params: 95,375,465\n",
      "Trainable params: 95,375,465\n",
      "Non-trainable params: 0\n",
      "_________________________________________________________________\n"
     ]
    }
   ],
   "source": [
    "model_cnn.compile(optimizer='adam', \n",
    "              loss='sparse_categorical_crossentropy', \n",
    "              metrics=['accuracy'])\n",
    "\n",
    "model_cnn.summary()"
   ]
  },
  {
   "cell_type": "markdown",
   "metadata": {},
   "source": [
    "During training we will store information about our score. It helps us to see problems with overfitting."
   ]
  },
  {
   "cell_type": "code",
   "execution_count": 58,
   "metadata": {},
   "outputs": [],
   "source": [
    "model_cnn_save_path = 'best_model_cnn.h5'\n",
    "checkpoint_callback_cnn = ModelCheckpoint(model_cnn_save_path, \n",
    "                                      monitor='val_accuracy',\n",
    "                                      save_best_only=True,\n",
    "                                      verbose=1)"
   ]
  },
  {
   "cell_type": "code",
   "execution_count": 59,
   "metadata": {},
   "outputs": [
    {
     "name": "stdout",
     "output_type": "stream",
     "text": [
      "Epoch 1/3\n",
      "767/767 [==============================] - ETA: 0s - loss: 0.8088 - accuracy: 0.6269 \n",
      "Epoch 00001: val_accuracy improved from -inf to 0.66930, saving model to best_model_cnn.h5\n",
      "767/767 [==============================] - 30834s 40s/step - loss: 0.8088 - accuracy: 0.6269 - val_loss: 0.7281 - val_accuracy: 0.6693\n",
      "Epoch 2/3\n",
      "767/767 [==============================] - ETA: 0s - loss: 0.5154 - accuracy: 0.7869\n",
      "Epoch 00002: val_accuracy did not improve from 0.66930\n",
      "767/767 [==============================] - 1869s 2s/step - loss: 0.5154 - accuracy: 0.7869 - val_loss: 0.7597 - val_accuracy: 0.6652\n",
      "Epoch 3/3\n",
      "767/767 [==============================] - ETA: 0s - loss: 0.1745 - accuracy: 0.9395\n",
      "Epoch 00003: val_accuracy did not improve from 0.66930\n",
      "767/767 [==============================] - 1837s 2s/step - loss: 0.1745 - accuracy: 0.9395 - val_loss: 1.0674 - val_accuracy: 0.6563\n"
     ]
    }
   ],
   "source": [
    "history_cnn = model_cnn.fit(X_train, \n",
    "                            y_train_group, \n",
    "                            epochs=3,\n",
    "                            batch_size=128,\n",
    "                            validation_split=0.1,\n",
    "                            callbacks=[checkpoint_callback_cnn])"
   ]
  },
  {
   "cell_type": "markdown",
   "metadata": {},
   "source": [
    "Not bad"
   ]
  },
  {
   "cell_type": "markdown",
   "metadata": {},
   "source": [
    "## LSTM"
   ]
  },
  {
   "cell_type": "code",
   "execution_count": 70,
   "metadata": {},
   "outputs": [],
   "source": [
    "def create_rnn_binary_clf(rnn_layer, embedding_size = EMBEDDING_SIZE ,embedding_weights = None, train_embedding = True):\n",
    "    rnn_clf = Sequential()\n",
    "    \n",
    "    rnn_clf.add(layers.Embedding(input_dim = VOCABULARY_SIZE, \n",
    "                                   output_dim = embedding_size, \n",
    "                                   input_length = MAX_SEQ_LENGTH, \n",
    "                                   trainable = train_embedding,   # True — update the embeddings  \n",
    "                                   weights = [embedding_weights] if embedding_weights is not None else None\n",
    "                                   ))\n",
    "    rnn_clf.add(rnn_layer)\n",
    "    rnn_clf.add(layers.Dense(NUM_CLASESS, activation='softmax'))\n",
    "    rnn_clf.compile(loss='sparse_categorical_crossentropy', optimizer='adam', metrics=['accuracy'])\n",
    "    return rnn_clf"
   ]
  },
  {
   "cell_type": "code",
   "execution_count": 71,
   "metadata": {},
   "outputs": [
    {
     "name": "stdout",
     "output_type": "stream",
     "text": [
      "Model: \"sequential_5\"\n",
      "_________________________________________________________________\n",
      "Layer (type)                 Output Shape              Param #   \n",
      "=================================================================\n",
      "embedding_5 (Embedding)      (None, 256, 300)          94967700  \n",
      "_________________________________________________________________\n",
      "lstm_2 (LSTM)                (None, 64)                93440     \n",
      "_________________________________________________________________\n",
      "dense_8 (Dense)              (None, 3)                 195       \n",
      "=================================================================\n",
      "Total params: 95,061,335\n",
      "Trainable params: 95,061,335\n",
      "Non-trainable params: 0\n",
      "_________________________________________________________________\n"
     ]
    }
   ],
   "source": [
    "\n",
    "model_lstm = create_rnn_binary_clf(rnn_layer = layers.LSTM(64),  embedding_weights = embedding_weights)\n",
    "model_lstm.summary()"
   ]
  },
  {
   "cell_type": "code",
   "execution_count": 72,
   "metadata": {},
   "outputs": [],
   "source": [
    "model_lstm_save_path = 'best_model_lstm.h5'\n",
    "checkpoint_callback_lstm = ModelCheckpoint(model_lstm_save_path, \n",
    "                                      monitor='val_accuracy',\n",
    "                                      save_best_only=True,\n",
    "                                      verbose=1)"
   ]
  },
  {
   "cell_type": "code",
   "execution_count": 73,
   "metadata": {},
   "outputs": [
    {
     "name": "stdout",
     "output_type": "stream",
     "text": [
      "Epoch 1/5\n",
      "767/767 [==============================] - ETA: 0s - loss: 0.8806 - accuracy: 0.5907\n",
      "Epoch 00001: val_accuracy improved from -inf to 0.62389, saving model to best_model_lstm.h5\n",
      "767/767 [==============================] - 1873s 2s/step - loss: 0.8806 - accuracy: 0.5907 - val_loss: 0.8390 - val_accuracy: 0.6239\n",
      "Epoch 2/5\n",
      "767/767 [==============================] - ETA: 0s - loss: 0.6792 - accuracy: 0.7063\n",
      "Epoch 00002: val_accuracy improved from 0.62389 to 0.63930, saving model to best_model_lstm.h5\n",
      "767/767 [==============================] - 1231s 2s/step - loss: 0.6792 - accuracy: 0.7063 - val_loss: 0.7895 - val_accuracy: 0.6393\n",
      "Epoch 3/5\n",
      "767/767 [==============================] - ETA: 0s - loss: 0.4411 - accuracy: 0.8224\n",
      "Epoch 00003: val_accuracy improved from 0.63930 to 0.64068, saving model to best_model_lstm.h5\n",
      "767/767 [==============================] - 972s 1s/step - loss: 0.4411 - accuracy: 0.8224 - val_loss: 0.8967 - val_accuracy: 0.6407\n",
      "Epoch 4/5\n",
      "767/767 [==============================] - ETA: 0s - loss: 0.2481 - accuracy: 0.9040\n",
      "Epoch 00004: val_accuracy did not improve from 0.64068\n",
      "767/767 [==============================] - 982s 1s/step - loss: 0.2481 - accuracy: 0.9040 - val_loss: 1.0979 - val_accuracy: 0.6280\n",
      "Epoch 5/5\n",
      "767/767 [==============================] - ETA: 0s - loss: 0.1484 - accuracy: 0.9419\n",
      "Epoch 00005: val_accuracy did not improve from 0.64068\n",
      "767/767 [==============================] - 989s 1s/step - loss: 0.1484 - accuracy: 0.9419 - val_loss: 1.3689 - val_accuracy: 0.6238\n"
     ]
    }
   ],
   "source": [
    "history_lstm = model_lstm.fit(X_train, \n",
    "                              y_train_group, \n",
    "                              epochs=5,\n",
    "                              batch_size=128,\n",
    "                              validation_split=0.1,\n",
    "                              callbacks=[checkpoint_callback_lstm])"
   ]
  },
  {
   "cell_type": "code",
   "execution_count": 74,
   "metadata": {},
   "outputs": [],
   "source": [
    "def plot_train_process(history_model, title = None):\n",
    "    plt.figure(figsize = (14,6))\n",
    "    plt.plot(history_model.history['accuracy'], \n",
    "         label='train accuracy')\n",
    "    plt.plot(history_model.history['val_accuracy'], \n",
    "             label='validation accuracy')\n",
    "    plt.xlabel('epoch number')\n",
    "    plt.ylabel('accuracy')\n",
    "    plt.legend()\n",
    "    if title is not None:\n",
    "        plt.title(title)\n",
    "    plt.show()"
   ]
  },
  {
   "cell_type": "code",
   "execution_count": 75,
   "metadata": {},
   "outputs": [
    {
     "data": {
      "image/png": "[encoded data removed]",
      "text/plain": [
       "<Figure size 1008x432 with 1 Axes>"
      ]
     },
     "metadata": {
      "needs_background": "light"
     },
     "output_type": "display_data"
    }
   ],
   "source": [
    "plot_train_process(history_lstm, \"LSTM train\")"
   ]
  },
  {
   "cell_type": "markdown",
   "metadata": {},
   "source": [
    "So, we may see that after 2 epochs our model starts to overfitting. That is bad news.\n",
    "\n",
    "But anyway let's look at test results."
   ]
  },
  {
   "cell_type": "code",
   "execution_count": 76,
   "metadata": {},
   "outputs": [
    {
     "name": "stdout",
     "output_type": "stream",
     "text": [
      "852/852 [==============================] - 31s 36ms/step - loss: 1.3722 - accuracy: 0.6240\n"
     ]
    },
    {
     "data": {
      "text/plain": [
       "[1.372158408164978, 0.623954176902771]"
      ]
     },
     "execution_count": 76,
     "metadata": {},
     "output_type": "execute_result"
    }
   ],
   "source": [
    "model_lstm.evaluate(X_test, y_test_group, verbose=1)"
   ]
  },
  {
   "cell_type": "markdown",
   "metadata": {},
   "source": [
    "There are some ways to fix overfitting problem. Firstly, let's add regulations to RNN model. And also reduce  sell number. Why do we actually take 64 cells?"
   ]
  },
  {
   "cell_type": "code",
   "execution_count": 45,
   "metadata": {},
   "outputs": [],
   "source": [
    "from keras.regularizers import L1L2"
   ]
  },
  {
   "cell_type": "code",
   "execution_count": 46,
   "metadata": {},
   "outputs": [],
   "source": [
    "model_lstm_reg_save_path = 'best_model_lstm_reg.h5'\n",
    "checkpoint_callback_lstm_reg = ModelCheckpoint(model_lstm_reg_save_path, \n",
    "                                      monitor='val_accuracy',\n",
    "                                      save_best_only=True,\n",
    "                                      verbose=1)"
   ]
  },
  {
   "cell_type": "code",
   "execution_count": 47,
   "metadata": {},
   "outputs": [
    {
     "name": "stdout",
     "output_type": "stream",
     "text": [
      "Model: \"sequential_4\"\n",
      "_________________________________________________________________\n",
      "Layer (type)                 Output Shape              Param #   \n",
      "=================================================================\n",
      "embedding_4 (Embedding)      (None, 256, 300)          94967700  \n",
      "_________________________________________________________________\n",
      "lstm_3 (LSTM)                (None, 16)                20288     \n",
      "_________________________________________________________________\n",
      "dense_5 (Dense)              (None, 1)                 17        \n",
      "=================================================================\n",
      "Total params: 94,988,005\n",
      "Trainable params: 94,988,005\n",
      "Non-trainable params: 0\n",
      "_________________________________________________________________\n"
     ]
    }
   ],
   "source": [
    "reg = L1L2(l2 = 0.01)\n",
    "model_lstm_reg = create_rnn_binary_clf(rnn_layer = layers.LSTM(16, kernel_regularizer = reg), embedding_weights = embedding_weights)\n",
    "model_lstm_reg.summary()"
   ]
  },
  {
   "cell_type": "code",
   "execution_count": 48,
   "metadata": {},
   "outputs": [
    {
     "name": "stdout",
     "output_type": "stream",
     "text": [
      "Epoch 1/5\n",
      "767/767 [==============================] - ETA: 0s - loss: 0.7025 - accuracy: 0.6281\n",
      "Epoch 00001: val_accuracy improved from -inf to 0.64820, saving model to best_model_lstm_reg.h5\n",
      "767/767 [==============================] - 977s 1s/step - loss: 0.7025 - accuracy: 0.6281 - val_loss: 0.6302 - val_accuracy: 0.6482\n",
      "Epoch 2/5\n",
      "767/767 [==============================] - ETA: 0s - loss: 0.5645 - accuracy: 0.7199\n",
      "Epoch 00002: val_accuracy improved from 0.64820 to 0.66434, saving model to best_model_lstm_reg.h5\n",
      "767/767 [==============================] - 974s 1s/step - loss: 0.5645 - accuracy: 0.7199 - val_loss: 0.6218 - val_accuracy: 0.6643\n",
      "Epoch 3/5\n",
      "767/767 [==============================] - ETA: 0s - loss: 0.4687 - accuracy: 0.7873\n",
      "Epoch 00003: val_accuracy did not improve from 0.66434\n",
      "767/767 [==============================] - 945s 1s/step - loss: 0.4687 - accuracy: 0.7873 - val_loss: 0.6403 - val_accuracy: 0.6628\n",
      "Epoch 4/5\n",
      "767/767 [==============================] - ETA: 0s - loss: 0.3862 - accuracy: 0.8338\n",
      "Epoch 00004: val_accuracy did not improve from 0.66434\n",
      "767/767 [==============================] - 1022s 1s/step - loss: 0.3862 - accuracy: 0.8338 - val_loss: 0.7230 - val_accuracy: 0.6610\n",
      "Epoch 5/5\n",
      "767/767 [==============================] - ETA: 0s - loss: 0.3183 - accuracy: 0.8666\n",
      "Epoch 00005: val_accuracy did not improve from 0.66434\n",
      "767/767 [==============================] - 988s 1s/step - loss: 0.3183 - accuracy: 0.8666 - val_loss: 0.7470 - val_accuracy: 0.6465\n"
     ]
    }
   ],
   "source": [
    "history_lstm_reg = model_lstm_reg.fit(X_train, \n",
    "                              y_train, \n",
    "                              epochs=5,\n",
    "                              batch_size=128,\n",
    "                              validation_split=0.1,\n",
    "                              callbacks=[checkpoint_callback_lstm_reg])"
   ]
  },
  {
   "cell_type": "code",
   "execution_count": 49,
   "metadata": {},
   "outputs": [
    {
     "data": {
      "image/png": "[encoded data removed]",
      "text/plain": [
       "<Figure size 1008x432 with 1 Axes>"
      ]
     },
     "metadata": {
      "needs_background": "light"
     },
     "output_type": "display_data"
    }
   ],
   "source": [
    "plot_train_process(history_lstm_reg, \"LSTM with regularisation train\")"
   ]
  },
  {
   "cell_type": "code",
   "execution_count": 50,
   "metadata": {},
   "outputs": [
    {
     "name": "stdout",
     "output_type": "stream",
     "text": [
      "852/852 [==============================] - 23s 27ms/step - loss: 0.7545 - accuracy: 0.6411\n"
     ]
    },
    {
     "data": {
      "text/plain": [
       "[0.7544564008712769, 0.6410905718803406]"
      ]
     },
     "execution_count": 50,
     "metadata": {},
     "output_type": "execute_result"
    }
   ],
   "source": [
    "model_lstm_reg.evaluate(X_test, y_test, verbose=1)"
   ]
  },
  {
   "cell_type": "markdown",
   "metadata": {},
   "source": [
    "So, these changes didn't help us. Now overfitting is little bit less but still huge "
   ]
  },
  {
   "cell_type": "markdown",
   "metadata": {},
   "source": [
    "Another try to fix that problem. We add more regularisation , dropout and  decreased   embedding dimention. "
   ]
  },
  {
   "cell_type": "code",
   "execution_count": 51,
   "metadata": {},
   "outputs": [
    {
     "name": "stdout",
     "output_type": "stream",
     "text": [
      "Model: \"sequential_5\"\n",
      "_________________________________________________________________\n",
      "Layer (type)                 Output Shape              Param #   \n",
      "=================================================================\n",
      "embedding_5 (Embedding)      (None, 256, 100)          31655900  \n",
      "_________________________________________________________________\n",
      "lstm_4 (LSTM)                (None, 16)                7488      \n",
      "_________________________________________________________________\n",
      "dense_6 (Dense)              (None, 1)                 17        \n",
      "=================================================================\n",
      "Total params: 31,663,405\n",
      "Trainable params: 31,663,405\n",
      "Non-trainable params: 0\n",
      "_________________________________________________________________\n"
     ]
    }
   ],
   "source": [
    "reg = L1L2(l2 = 0.1)\n",
    "model_lstm_reg2 = create_rnn_binary_clf(rnn_layer = layers.LSTM(16, kernel_regularizer = reg, dropout = 0.1), embedding_size = 100)\n",
    "model_lstm_reg2.summary()"
   ]
  },
  {
   "cell_type": "code",
   "execution_count": 52,
   "metadata": {},
   "outputs": [],
   "source": [
    "model_lstm_reg2_save_path = 'best_model_lstm_reg2.h5'\n",
    "checkpoint_callback_lstm_reg2 = ModelCheckpoint(model_lstm_reg2_save_path, \n",
    "                                      monitor='val_accuracy',\n",
    "                                      save_best_only=True,\n",
    "                                      verbose=1)"
   ]
  },
  {
   "cell_type": "code",
   "execution_count": 53,
   "metadata": {},
   "outputs": [
    {
     "name": "stdout",
     "output_type": "stream",
     "text": [
      "Epoch 1/5\n",
      "767/767 [==============================] - ETA: 0s - loss: 1.2124 - accuracy: 0.6186\n",
      "Epoch 00001: val_accuracy improved from -inf to 0.64077, saving model to best_model_lstm_reg2.h5\n",
      "767/767 [==============================] - 380s 496ms/step - loss: 1.2124 - accuracy: 0.6186 - val_loss: 0.6352 - val_accuracy: 0.6408\n",
      "Epoch 2/5\n",
      "767/767 [==============================] - ETA: 0s - loss: 0.5718 - accuracy: 0.7121\n",
      "Epoch 00002: val_accuracy improved from 0.64077 to 0.67728, saving model to best_model_lstm_reg2.h5\n",
      "767/767 [==============================] - 382s 498ms/step - loss: 0.5718 - accuracy: 0.7121 - val_loss: 0.6142 - val_accuracy: 0.6773\n",
      "Epoch 3/5\n",
      "767/767 [==============================] - ETA: 0s - loss: 0.5400 - accuracy: 0.7458\n",
      "Epoch 00003: val_accuracy did not improve from 0.67728\n",
      "767/767 [==============================] - 388s 506ms/step - loss: 0.5400 - accuracy: 0.7458 - val_loss: 0.6540 - val_accuracy: 0.6625\n",
      "Epoch 4/5\n",
      "767/767 [==============================] - ETA: 0s - loss: 0.4324 - accuracy: 0.8089\n",
      "Epoch 00004: val_accuracy did not improve from 0.67728\n",
      "767/767 [==============================] - 388s 506ms/step - loss: 0.4324 - accuracy: 0.8089 - val_loss: 0.6781 - val_accuracy: 0.6533\n",
      "Epoch 5/5\n",
      "767/767 [==============================] - ETA: 0s - loss: 0.3615 - accuracy: 0.8452\n",
      "Epoch 00005: val_accuracy did not improve from 0.67728\n",
      "767/767 [==============================] - 382s 498ms/step - loss: 0.3615 - accuracy: 0.8452 - val_loss: 0.7251 - val_accuracy: 0.6541\n"
     ]
    }
   ],
   "source": [
    "history_lstm_reg2 = model_lstm_reg2.fit(X_train, \n",
    "                              y_train, \n",
    "                              epochs=5,\n",
    "                              batch_size=128,\n",
    "                              validation_split=0.1,\n",
    "                              callbacks=[checkpoint_callback_lstm_reg2])"
   ]
  },
  {
   "cell_type": "code",
   "execution_count": 54,
   "metadata": {},
   "outputs": [
    {
     "data": {
      "image/png": "[encoded data removed]",
      "text/plain": [
       "<Figure size 1008x432 with 1 Axes>"
      ]
     },
     "metadata": {
      "needs_background": "light"
     },
     "output_type": "display_data"
    }
   ],
   "source": [
    "plot_train_process(history_lstm_reg2, \"LSTM with more regularisation\")"
   ]
  },
  {
   "cell_type": "code",
   "execution_count": 55,
   "metadata": {},
   "outputs": [
    {
     "name": "stdout",
     "output_type": "stream",
     "text": [
      "852/852 [==============================] - 13s 15ms/step - loss: 0.7312 - accuracy: 0.6502\n"
     ]
    },
    {
     "data": {
      "text/plain": [
       "[0.7311899065971375, 0.6501541137695312]"
      ]
     },
     "execution_count": 55,
     "metadata": {},
     "output_type": "execute_result"
    }
   ],
   "source": [
    "model_lstm_reg2.evaluate(X_test, y_test, verbose=1)"
   ]
  },
  {
   "cell_type": "markdown",
   "metadata": {},
   "source": [
    "This approach  give better results but we still have overfitting."
   ]
  },
  {
   "cell_type": "markdown",
   "metadata": {},
   "source": [
    "Who knows, may be GRU  can help us. At least that model has less parameters."
   ]
  },
  {
   "cell_type": "code",
   "execution_count": 59,
   "metadata": {},
   "outputs": [
    {
     "name": "stdout",
     "output_type": "stream",
     "text": [
      "Model: \"sequential_7\"\n",
      "_________________________________________________________________\n",
      "Layer (type)                 Output Shape              Param #   \n",
      "=================================================================\n",
      "embedding_7 (Embedding)      (None, 256, 100)          31655900  \n",
      "_________________________________________________________________\n",
      "gru_1 (GRU)                  (None, 16)                5664      \n",
      "_________________________________________________________________\n",
      "dense_8 (Dense)              (None, 1)                 17        \n",
      "=================================================================\n",
      "Total params: 31,661,581\n",
      "Trainable params: 31,661,581\n",
      "Non-trainable params: 0\n",
      "_________________________________________________________________\n"
     ]
    }
   ],
   "source": [
    "reg = L1L2(l2 = 0.1)\n",
    "model_gru = create_rnn_binary_clf(rnn_layer = layers.GRU(16, kernel_regularizer = reg), embedding_size = 100)\n",
    "model_gru.summary()"
   ]
  },
  {
   "cell_type": "code",
   "execution_count": 60,
   "metadata": {},
   "outputs": [],
   "source": [
    "model_gru_save_path = 'best_model_gru.h5'\n",
    "checkpoint_callback_gru = ModelCheckpoint(model_gru_save_path, \n",
    "                                      monitor='val_accuracy',\n",
    "                                      save_best_only=True,\n",
    "                                      verbose=1)"
   ]
  },
  {
   "cell_type": "code",
   "execution_count": 61,
   "metadata": {},
   "outputs": [
    {
     "name": "stdout",
     "output_type": "stream",
     "text": [
      "Epoch 1/5\n",
      "767/767 [==============================] - ETA: 0s - loss: 1.1707 - accuracy: 0.6045\n",
      "Epoch 00001: val_accuracy improved from -inf to 0.65746, saving model to best_model_gru.h5\n",
      "767/767 [==============================] - 391s 510ms/step - loss: 1.1707 - accuracy: 0.6045 - val_loss: 0.6238 - val_accuracy: 0.6575\n",
      "Epoch 2/5\n",
      "767/767 [==============================] - ETA: 0s - loss: 0.5777 - accuracy: 0.7026\n",
      "Epoch 00002: val_accuracy did not improve from 0.65746\n",
      "767/767 [==============================] - 389s 507ms/step - loss: 0.5777 - accuracy: 0.7026 - val_loss: 0.6724 - val_accuracy: 0.6295\n",
      "Epoch 3/5\n",
      "767/767 [==============================] - ETA: 0s - loss: 0.4870 - accuracy: 0.7698\n",
      "Epoch 00003: val_accuracy did not improve from 0.65746\n",
      "767/767 [==============================] - 392s 510ms/step - loss: 0.4870 - accuracy: 0.7698 - val_loss: 0.6705 - val_accuracy: 0.6451\n",
      "Epoch 4/5\n",
      "767/767 [==============================] - ETA: 0s - loss: 0.4024 - accuracy: 0.8207\n",
      "Epoch 00004: val_accuracy did not improve from 0.65746\n",
      "767/767 [==============================] - 389s 507ms/step - loss: 0.4024 - accuracy: 0.8207 - val_loss: 0.7408 - val_accuracy: 0.6498\n",
      "Epoch 5/5\n",
      "767/767 [==============================] - ETA: 0s - loss: 0.3392 - accuracy: 0.8537\n",
      "Epoch 00005: val_accuracy did not improve from 0.65746\n",
      "767/767 [==============================] - 420s 548ms/step - loss: 0.3392 - accuracy: 0.8537 - val_loss: 0.7481 - val_accuracy: 0.6389\n"
     ]
    }
   ],
   "source": [
    "history_gru = model_gru.fit(X_train, \n",
    "                              y_train, \n",
    "                              epochs=5,\n",
    "                              batch_size=128,\n",
    "                              validation_split=0.1,\n",
    "                              callbacks=[checkpoint_callback_gru])"
   ]
  },
  {
   "cell_type": "code",
   "execution_count": 62,
   "metadata": {},
   "outputs": [
    {
     "name": "stdout",
     "output_type": "stream",
     "text": [
      "852/852 [==============================] - 14s 16ms/step - loss: 0.7481 - accuracy: 0.6395\n"
     ]
    },
    {
     "data": {
      "text/plain": [
       "[0.7481415271759033, 0.6395493745803833]"
      ]
     },
     "execution_count": 62,
     "metadata": {},
     "output_type": "execute_result"
    }
   ],
   "source": [
    "model_gru.evaluate(X_test, y_test, verbose=1)"
   ]
  },
  {
   "cell_type": "markdown",
   "metadata": {},
   "source": [
    "Unfortunately , not in this time...."
   ]
  },
  {
   "cell_type": "markdown",
   "metadata": {},
   "source": [
    "At the end let's use bidirectional LSTM"
   ]
  },
  {
   "cell_type": "code",
   "execution_count": 68,
   "metadata": {},
   "outputs": [
    {
     "name": "stdout",
     "output_type": "stream",
     "text": [
      "Model: \"sequential_10\"\n",
      "_________________________________________________________________\n",
      "Layer (type)                 Output Shape              Param #   \n",
      "=================================================================\n",
      "embedding_10 (Embedding)     (None, 256, 100)          31655900  \n",
      "_________________________________________________________________\n",
      "bidirectional (Bidirectional (None, 32)                14976     \n",
      "_________________________________________________________________\n",
      "dense_11 (Dense)             (None, 1)                 33        \n",
      "=================================================================\n",
      "Total params: 31,670,909\n",
      "Trainable params: 31,670,909\n",
      "Non-trainable params: 0\n",
      "_________________________________________________________________\n"
     ]
    }
   ],
   "source": [
    "reg = L1L2(l2 = 0.1)\n",
    "model_bidirectional = create_rnn_binary_clf(layers.Bidirectional(layers.LSTM(16,kernel_regularizer = reg, dropout = 0.1 )), embedding_size = 100)\n",
    "model_bidirectional.summary()"
   ]
  },
  {
   "cell_type": "code",
   "execution_count": 69,
   "metadata": {},
   "outputs": [],
   "source": [
    "model_bidirectional_save_path = 'best_model_bidirectional.h5'\n",
    "checkpoint_callback_bidirectional = ModelCheckpoint(model_bidirectional_save_path, \n",
    "                                      monitor='val_accuracy',\n",
    "                                      save_best_only=True,\n",
    "                                      verbose=1)"
   ]
  },
  {
   "cell_type": "code",
   "execution_count": 70,
   "metadata": {},
   "outputs": [
    {
     "name": "stdout",
     "output_type": "stream",
     "text": [
      "Epoch 1/5\n",
      "767/767 [==============================] - ETA: 0s - loss: 1.8203 - accuracy: 0.6028\n",
      "Epoch 00001: val_accuracy improved from -inf to 0.64223, saving model to best_model_bidirectional.h5\n",
      "767/767 [==============================] - 412s 537ms/step - loss: 1.8203 - accuracy: 0.6028 - val_loss: 0.6394 - val_accuracy: 0.6422\n",
      "Epoch 2/5\n",
      "767/767 [==============================] - ETA: 0s - loss: 0.6141 - accuracy: 0.6766\n",
      "Epoch 00002: val_accuracy improved from 0.64223 to 0.65269, saving model to best_model_bidirectional.h5\n",
      "767/767 [==============================] - 417s 544ms/step - loss: 0.6141 - accuracy: 0.6766 - val_loss: 0.6293 - val_accuracy: 0.6527\n",
      "Epoch 3/5\n",
      "767/767 [==============================] - ETA: 0s - loss: 0.5407 - accuracy: 0.7383\n",
      "Epoch 00003: val_accuracy improved from 0.65269 to 0.66104, saving model to best_model_bidirectional.h5\n",
      "767/767 [==============================] - 452s 589ms/step - loss: 0.5407 - accuracy: 0.7383 - val_loss: 0.6240 - val_accuracy: 0.6610\n",
      "Epoch 4/5\n",
      "767/767 [==============================] - ETA: 0s - loss: 0.4688 - accuracy: 0.7859\n",
      "Epoch 00004: val_accuracy did not improve from 0.66104\n",
      "767/767 [==============================] - 428s 558ms/step - loss: 0.4688 - accuracy: 0.7859 - val_loss: 0.6681 - val_accuracy: 0.6510\n",
      "Epoch 5/5\n",
      "767/767 [==============================] - ETA: 0s - loss: 0.3963 - accuracy: 0.8278\n",
      "Epoch 00005: val_accuracy did not improve from 0.66104\n",
      "767/767 [==============================] - 404s 527ms/step - loss: 0.3963 - accuracy: 0.8278 - val_loss: 0.6837 - val_accuracy: 0.6483\n"
     ]
    }
   ],
   "source": [
    "history_bidirectional = model_bidirectional.fit(X_train, \n",
    "                              y_train, \n",
    "                              epochs=5,\n",
    "                              batch_size=128,\n",
    "                              validation_split=0.1,\n",
    "                              callbacks=[checkpoint_callback_bidirectional])"
   ]
  },
  {
   "cell_type": "code",
   "execution_count": 71,
   "metadata": {},
   "outputs": [
    {
     "data": {
      "image/png": "[encoded data removed]",
      "text/plain": [
       "<Figure size 1008x432 with 1 Axes>"
      ]
     },
     "metadata": {
      "needs_background": "light"
     },
     "output_type": "display_data"
    }
   ],
   "source": [
    "plot_train_process(history_bidirectional, \"Bidirectional with reg \")"
   ]
  },
  {
   "cell_type": "code",
   "execution_count": 72,
   "metadata": {},
   "outputs": [
    {
     "name": "stdout",
     "output_type": "stream",
     "text": [
      "852/852 [==============================] - 14s 17ms/step - loss: 0.6844 - accuracy: 0.6452\n"
     ]
    },
    {
     "data": {
      "text/plain": [
       "[0.6843703389167786, 0.6451636552810669]"
      ]
     },
     "execution_count": 72,
     "metadata": {},
     "output_type": "execute_result"
    }
   ],
   "source": [
    "model_bidirectional.evaluate(X_test, y_test, verbose=1)"
   ]
  },
  {
   "cell_type": "markdown",
   "metadata": {},
   "source": [
    "Nothing changed. "
   ]
  },
  {
   "cell_type": "markdown",
   "metadata": {},
   "source": [
    "**Conclusion**\n",
    "\n",
    "We tried to beat results, received in task one. Unfortunately , we did not achieve better results. There are some lessons that we could learn out of it. \n",
    "\n",
    "1) neural nets may overfitting.\n",
    "\n",
    "2) There are some ways to fix that but there is no guarantee  that it would help.\n",
    "\n",
    "3) It was common knowledge, that NN requires a lot of data. So, increasing data is also a good way to decrease overfitting. "
   ]
  },
  {
   "cell_type": "code",
   "execution_count": 91,
   "metadata": {},
   "outputs": [
    {
     "ename": "ModuleNotFoundError",
     "evalue": "No module named 'transformers'",
     "output_type": "error",
     "traceback": [
      "\u001b[0;31m---------------------------------------------------------------------------\u001b[0m",
      "\u001b[0;31mModuleNotFoundError\u001b[0m                       Traceback (most recent call last)",
      "\u001b[0;32m<ipython-input-91-956976b971c2>\u001b[0m in \u001b[0;36m<module>\u001b[0;34m\u001b[0m\n\u001b[0;32m----> 1\u001b[0;31m \u001b[0;32mimport\u001b[0m \u001b[0mtransformers\u001b[0m \u001b[0;32mas\u001b[0m \u001b[0mppb\u001b[0m \u001b[0;31m# pytorch transformers\u001b[0m\u001b[0;34m\u001b[0m\u001b[0;34m\u001b[0m\u001b[0m\n\u001b[0m",
      "\u001b[0;31mModuleNotFoundError\u001b[0m: No module named 'transformers'"
     ]
    }
   ],
   "source": [
    "import transformers as ppb # pytorch transformers"
   ]
  },
  {
   "cell_type": "code",
   "execution_count": 92,
   "metadata": {},
   "outputs": [
    {
     "name": "stdout",
     "output_type": "stream",
     "text": [
      "Updating Homebrew...\n",
      "\u001b[34m==>\u001b[0m \u001b[1mAuto-updated Homebrew!\u001b[0m\n",
      "Updated 2 taps (homebrew/core and homebrew/cask).\n",
      "\u001b[34m==>\u001b[0m \u001b[1mUpdated Formulae\u001b[0m\n",
      "Updated 2 formulae.\n",
      "\u001b[34m==>\u001b[0m \u001b[1mUpdated Casks\u001b[0m\n",
      "Updated 1 cask.\n",
      "\n",
      "\u001b[34m==>\u001b[0m \u001b[1mSearching for similarly named formulae...\u001b[0m\n",
      "\u001b[31mError:\u001b[0m No similarly named formulae found.\n",
      "\u001b[31mError:\u001b[0m No available formula or cask with the name \"transformers\".\n",
      "\u001b[34m==>\u001b[0m \u001b[1mSearching for a previously deleted formula (in the last month)...\u001b[0m\n",
      "\u001b[31mError:\u001b[0m No previously deleted formula found.\n",
      "\u001b[34m==>\u001b[0m \u001b[1mSearching taps on GitHub...\u001b[0m\n",
      "\u001b[31mError:\u001b[0m No formulae found in taps.\n"
     ]
    }
   ],
   "source": [
    "! brew install transformers"
   ]
  },
  {
   "cell_type": "code",
   "execution_count": 94,
   "metadata": {},
   "outputs": [
    {
     "name": "stdout",
     "output_type": "stream",
     "text": [
      "Requirement already satisfied: transformers in /usr/local/lib/python3.9/site-packages (4.4.2)\n",
      "Requirement already satisfied: packaging in /usr/local/lib/python3.9/site-packages (from transformers) (20.9)\n",
      "Requirement already satisfied: regex!=2019.12.17 in /usr/local/lib/python3.9/site-packages (from transformers) (2021.3.17)\n",
      "Requirement already satisfied: numpy>=1.17 in /usr/local/lib/python3.9/site-packages (from transformers) (1.20.1)\n",
      "Requirement already satisfied: tokenizers<0.11,>=0.10.1 in /usr/local/lib/python3.9/site-packages (from transformers) (0.10.1)\n",
      "Requirement already satisfied: requests in /usr/local/lib/python3.9/site-packages (from transformers) (2.25.1)\n",
      "Requirement already satisfied: sacremoses in /usr/local/lib/python3.9/site-packages (from transformers) (0.0.43)\n",
      "Requirement already satisfied: tqdm>=4.27 in /usr/local/lib/python3.9/site-packages (from transformers) (4.59.0)\n",
      "Requirement already satisfied: filelock in /usr/local/lib/python3.9/site-packages (from transformers) (3.0.12)\n",
      "Requirement already satisfied: pyparsing>=2.0.2 in /usr/local/lib/python3.9/site-packages (from packaging->transformers) (2.4.7)\n",
      "Requirement already satisfied: certifi>=2017.4.17 in /usr/local/lib/python3.9/site-packages (from requests->transformers) (2020.12.5)\n",
      "Requirement already satisfied: idna<3,>=2.5 in /usr/local/lib/python3.9/site-packages (from requests->transformers) (2.10)\n",
      "Requirement already satisfied: chardet<5,>=3.0.2 in /usr/local/lib/python3.9/site-packages (from requests->transformers) (4.0.0)\n",
      "Requirement already satisfied: urllib3<1.27,>=1.21.1 in /usr/local/lib/python3.9/site-packages (from requests->transformers) (1.26.4)\n",
      "Requirement already satisfied: click in /usr/local/lib/python3.9/site-packages (from sacremoses->transformers) (7.1.2)\n",
      "Requirement already satisfied: six in /usr/local/lib/python3.9/site-packages (from sacremoses->transformers) (1.15.0)\n",
      "Requirement already satisfied: joblib in /usr/local/lib/python3.9/site-packages (from sacremoses->transformers) (1.0.1)\n"
     ]
    }
   ],
   "source": [
    "!  pip3 install transformers"
   ]
  },
  {
   "cell_type": "code",
   "execution_count": null,
   "metadata": {},
   "outputs": [],
   "source": []
  },
  {
   "cell_type": "code",
   "execution_count": null,
   "metadata": {},
   "outputs": [],
   "source": []
  }
 ],
 "metadata": {
  "kernelspec": {
   "display_name": "Python 3",
   "language": "python",
   "name": "python3"
  },
  "language_info": {
   "codemirror_mode": {
    "name": "ipython",
    "version": 3
   },
   "file_extension": ".py",
   "mimetype": "text/x-python",
   "name": "python",
   "nbconvert_exporter": "python",
   "pygments_lexer": "ipython3",
   "version": "3.6.10"
  }
 },
 "nbformat": 4,
 "nbformat_minor": 4
}
